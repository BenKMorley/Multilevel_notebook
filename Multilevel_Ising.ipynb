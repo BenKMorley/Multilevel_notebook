{
 "cells": [
  {
   "cell_type": "code",
   "execution_count": 1,
   "metadata": {},
   "outputs": [],
   "source": [
    "from collections import Counter                     # For adding together fields\n",
    "import pdb                                          # For debugging\n",
    "import os                                           # For filesystem management\n",
    "from multiprocessing import Pool                    # For parallel execution\n",
    "\n",
    "import numpy                                        # For faster execution times\n",
    "numpy.seterr(all='raise')                           # numpy errors are treated as Python errors\n",
    "from scipy.optimize import minimize_scalar          # For fitting to obtain the correlation length\n",
    "\n",
    "import matplotlib                                   # For plotting\n",
    "import matplotlib.pyplot as plt\n",
    "from matplotlib import colors\n",
    "from matplotlib.animation import FuncAnimation\n",
    "plt.rcParams.update({\"text.usetex\": True})          # Plot graphs using TeX\n",
    "matplotlib.rcParams['animation.writer'] = 'ffmpeg'  # The animation writer to use"
   ]
  },
  {
   "cell_type": "code",
   "execution_count": 2,
   "metadata": {},
   "outputs": [],
   "source": [
    "# The following directory tells the code where to store the generated configurations\n",
    "# When you change this make sure to leave a trailing backslash!\n",
    "base_directory = \"/mnt/drive1/Multilevel_data/\"\n",
    "\n",
    "# Make subdirectories if needed\n",
    "for subdir in ['graphs', 'data', 'movies']:\n",
    "    directory = f\"{base_directory}{subdir}/\"\n",
    "\n",
    "    if not os.path.isdir(directory):\n",
    "      os.makedirs(directory)"
   ]
  },
  {
   "cell_type": "markdown",
   "metadata": {},
   "source": [
    "The following function will be used repeatedly to check if simulation data already exists."
   ]
  },
  {
   "cell_type": "code",
   "execution_count": 3,
   "metadata": {},
   "outputs": [],
   "source": [
    "def file_exists(directory, file):\n",
    "    files = os.popen(f'ls {directory}')\n",
    "    files = [x[:-1] for x in files]  # Remove the '\\n' charachter from filenames\n",
    "\n",
    "    return file in files"
   ]
  },
  {
   "cell_type": "markdown",
   "metadata": {},
   "source": [
    "The following template functions are used to generate the filenames where data will be stored.\n",
    "They are defined here so that the filenames are used consistantly throughout the code."
   ]
  },
  {
   "cell_type": "markdown",
   "metadata": {},
   "source": [
    "# Section 0: Multilevel diagram"
   ]
  },
  {
   "cell_type": "code",
   "execution_count": 4,
   "metadata": {},
   "outputs": [
    {
     "data": {
      "image/png": "[encoded data removed]",
      "text/plain": [
       "<Figure size 432x432 with 1 Axes>"
      ]
     },
     "metadata": {},
     "output_type": "display_data"
    }
   ],
   "source": [
    "grid = numpy.zeros((8, 8))\n",
    "grid[:, 0] = numpy.ones(8)\n",
    "grid[:, 4] = numpy.ones(8)\n",
    "grid = 1 - grid\n",
    "\n",
    "plt.imshow(grid, cmap='Set3')\n",
    "\n",
    "ax = plt.gca()\n",
    "ax.grid(color='w', linestyle='-', linewidth=2)\n",
    "ax.set_xticks(numpy.arange(-.5, 8, 1))\n",
    "ax.set_yticks(numpy.arange(-.5, 8, 1))\n",
    "\n",
    "for xlabel_i in ax.axes.get_xticklabels():\n",
    "    xlabel_i.set_visible(False)\n",
    "    xlabel_i.set_fontsize(0.0)\n",
    "\n",
    "for xlabel_i in ax.axes.get_yticklabels():\n",
    "    xlabel_i.set_fontsize(0.0)\n",
    "    xlabel_i.set_visible(False)\n",
    "\n",
    "for tick in ax.axes.get_xticklines():\n",
    "    tick.set_visible(False)\n",
    "\n",
    "for tick in ax.axes.get_yticklines():\n",
    "    tick.set_visible(False)\n",
    "\n",
    "ax.spines['top'].set_visible(False)\n",
    "ax.spines['right'].set_visible(False)\n",
    "ax.spines['bottom'].set_visible(False)\n",
    "ax.spines['left'].set_visible(False)\n",
    "\n",
    "x = plt.Rectangle((1.5, 4.5), 1, 1, color='slateblue', lw=4, zorder=100, fill=None)\n",
    "y = plt.Rectangle((5.5, 1.5), 1, 1, color='slateblue', lw=4, zorder=100, fill=None)\n",
    "plt.arrow(2.5, 5, 2.6, -2.7, lw=4, color='indigo', head_width=0.3, zorder=100)\n",
    "plt.text(4.6, 3.5, r'$ \\delta = y - x $', color='indigo', fontsize=23)\n",
    "plt.text(1.5, 6.2, r'$ \\phi (x) $', color='slateblue', fontsize=23)\n",
    "plt.text(5.5, 1.2, r'$ \\phi (y) $', color='slateblue', fontsize=23)\n",
    "\n",
    "B1 = plt.Rectangle((-0.45, -0.45), 0.9, 7.9, color='maroon', lw=4, zorder=80, fill=None)\n",
    "B2 = plt.Rectangle((3.55, -0.45), 0.9, 7.9, color='maroon', lw=4, zorder=80, fill=None)\n",
    "plt.text(-1.5, 4, r'$ \\partial B $', color='maroon', fontsize=23)\n",
    "\n",
    "plt.text(1.75, 2.2, r'$ \\Lambda_1 $', color='orangered', fontsize=23)\n",
    "plt.arrow(2.4, 2, 0.7, 0, color='orangered', zorder=100, head_width=0.3)\n",
    "plt.arrow(1.6, 2, -0.7, 0, color='orangered', zorder=100, head_width=0.3)\n",
    "plt.text(5.7, 5.6, r'$ \\Lambda_2 $', color='orangered', fontsize=23)\n",
    "plt.arrow(6.4, 5.4, 0.7, 0, color='orangered', zorder=100, head_width=0.3)\n",
    "plt.arrow(5.6, 5.4, -0.7, 0, color='orangered', zorder=100, head_width=0.3)\n",
    "\n",
    "ax.add_patch(x)\n",
    "ax.add_patch(y)\n",
    "ax.add_patch(B1)\n",
    "ax.add_patch(B2)\n",
    "\n",
    "fig = plt.gcf()\n",
    "fig.set_size_inches(6, 6)\n",
    "plt.savefig(f'{base_directory}graphs/multilevel_diagram.pdf')\n",
    "\n",
    "plt.show()"
   ]
  },
  {
   "cell_type": "code",
   "execution_count": 5,
   "metadata": {},
   "outputs": [],
   "source": [
    "def template_1_1(L, beta, N, step):\n",
    "    return f\"ising_spins_1_1_L{L}_b{beta:.10f}_N{N}_step{step}.npy\"\n",
    "  \n",
    "def template_splitting(L, beta, N, M, step, i, j):\n",
    "    return f\"L{L}_b{beta:.10f}_N{N}_M{M}_step{step}_spins_{i}_{j}.npy\"\n",
    "\n",
    "def template_twopt(L, beta, N, step, delta):\n",
    "    return f\"twopt_single_slice_L{L}_beta{beta}_N{N}_step{step}_delta{delta}.npy\"\n",
    "\n",
    "def template_twopt_bootstrap(L, beta, N, step, delta, no_samples):\n",
    "    return f\"twopt_single_slice_boot_L{L}_beta{beta}_N{N}_step{step}_delta{delta}\" + \\\n",
    "            f\"_no_samples{no_samples}.npy\"\n",
    "\n",
    "def template_twopt_multi(L, beta, N, delta, M, step, splitting):\n",
    "    return f\"twopt_multi_slice_L{L}_beta{beta}_N{N}_M{M}_step{step}_delta{delta}_sp{splitting}.npy\"\n",
    "\n",
    "def template_twopt_multi_weighted(L, beta, N, M, step, delta, no_samples, weights, bin_size):\n",
    "    return f\"twopt_weighted_multi_slice_L{L}_beta{beta}_N{N}_M{M}_step{step}_delta{delta}_\" + \\\n",
    "            f\"no_samples{no_samples}_weights{weights}_bin_size{bin_size}.npy\"\n",
    "\n",
    "def template_twopt_calculation(beta, L, N, M, no_samples, step, bin_size):\n",
    "    return f\"results_run_N{N}_M{M}_L{L}_step{step}\" + \\\n",
    "           f\"_beta{beta}_no_samples{no_samples}_binsize{bin_size}.npy\""
   ]
  },
  {
   "cell_type": "markdown",
   "metadata": {},
   "source": [
    "# 1. The Ising Model\n",
    "## 1.1. Utility Functions\n",
    "In order to perform multilevel, we must label the subregions of the lattice. region_maker() is a generalized function that takes the sidelength of the lattice, L, and a tuple of the splitting, s, as inputs. Each element of s is the number of sublattices along a given direction, e.g. the s[0]=2 means that along the x-axis the lattice is split into 2. The number of dimensions is inferred by the lenghth of s. The boundary layers seperating the sub-lattices are labelled by 0, while the subregions are numbered 1, 2, ... . For example, region_maker(8, (2, )) returns $[0, 1, 1, 1, 0, 2, 2, 2]$."
   ]
  },
  {
   "cell_type": "code",
   "execution_count": 6,
   "metadata": {},
   "outputs": [],
   "source": [
    "def region_maker(L, s):\n",
    "    \"\"\"\n",
    "        This function will return an array of the same shape as the lattice, called regions. This\n",
    "        array uniquely labels all regions of the lattice, and labels the boundaries by 0.\n",
    "\n",
    "        INPUTS:\n",
    "        -------\n",
    "        L : int, size of the lattice (Assumed to be the same size in all directions currently.)\n",
    "        s : (n, ) tuple of ints, describing how the lattice is to be broken\n",
    "            down in the directions (x1, ..., xn). The dimensionality of the lattice is inferred\n",
    "            from the length of s\n",
    "        \n",
    "        OUTPUTS:\n",
    "        --------\n",
    "        (L, ) * len(s) numpy array of ints. The integers represent the sub-lattice identity of\n",
    "            each point on the lattice.\n",
    "    \"\"\"\n",
    "    for i in s:\n",
    "        assert type(i) == int, \"The lattice must be divided into an integer number of subregions\"\n",
    "        assert i >= 1, \"Components of s must be greater of equal to 1\"\n",
    "        assert L % i == 0, \"The lattice size must divide exactly into the number of subregions\"\n",
    "\n",
    "    s = numpy.array(s, dtype=int)\n",
    "    dim = len(s)\n",
    "    shape = (L, ) * dim\n",
    "\n",
    "    # The trivial case where there is no splitting of the lattice, simply label all sites as 1\n",
    "    if numpy.product(numpy.array(s)) == 1:\n",
    "        return numpy.ones(shape)\n",
    "\n",
    "    regions = numpy.zeros(shape)\n",
    "    indices = numpy.indices(shape).reshape(dim, L ** dim).T\n",
    "\n",
    "    for i in range(len(indices)):\n",
    "        x = indices[i]\n",
    "        total = 0\n",
    "\n",
    "        # Labels the subregion indices of this position\n",
    "        R = x // (L // s)\n",
    "\n",
    "        # 0 if on boundary, 1 if not\n",
    "        B = numpy.product(numpy.where(s > 1,\n",
    "                                      numpy.where(x % (L // s), 1, 0),\n",
    "                                      1))\n",
    "\n",
    "        for i in range(dim):\n",
    "            total *= s[i]\n",
    "            total += (R[i] + (i + 1) // dim) * B\n",
    "\n",
    "        regions[tuple(x)] = total\n",
    "\n",
    "    return regions"
   ]
  },
  {
   "cell_type": "markdown",
   "metadata": {},
   "source": [
    "As an example the sub-regions of a two-dimensional lattice split into four quadrants is accessed by region_maker(8, (2, 2))"
   ]
  },
  {
   "cell_type": "code",
   "execution_count": 7,
   "metadata": {},
   "outputs": [
    {
     "name": "stdout",
     "output_type": "stream",
     "text": [
      "[[0. 0. 0. 0. 0. 0. 0. 0.]\n",
      " [0. 1. 1. 1. 0. 2. 2. 2.]\n",
      " [0. 1. 1. 1. 0. 2. 2. 2.]\n",
      " [0. 1. 1. 1. 0. 2. 2. 2.]\n",
      " [0. 0. 0. 0. 0. 0. 0. 0.]\n",
      " [0. 3. 3. 3. 0. 4. 4. 4.]\n",
      " [0. 3. 3. 3. 0. 4. 4. 4.]\n",
      " [0. 3. 3. 3. 0. 4. 4. 4.]]\n"
     ]
    }
   ],
   "source": [
    "print(region_maker(8, (2, 2)))"
   ]
  },
  {
   "cell_type": "markdown",
   "metadata": {},
   "source": [
    "In order to visualize multilevel in the Ising model we need to plot the lattice of spins. The spin array elements will take values of +1 for spin up, and -1 for spin down. This function takes a matplotlib axis as input (for the purpose of making movies later), as well as an array of spins."
   ]
  },
  {
   "cell_type": "code",
   "execution_count": 8,
   "metadata": {},
   "outputs": [],
   "source": [
    "def plot_spins(spins, ax=None):\n",
    "    \"\"\"\n",
    "        This function plots a lattice of spins, with spin up taking a purple color and spin down\n",
    "        a green color. It takes an existing matplotlib axis as input for the purpose of making\n",
    "        movies.\n",
    "\n",
    "        INPUTS:\n",
    "        -------\n",
    "        spins: numpy array of integers or floats. Values assumed to be either -1 or +1\n",
    "\n",
    "        ax: matplotlib axis object\n",
    "\n",
    "        OUTPUTS:\n",
    "        --------\n",
    "        Instance of matplotlib.image.AxesImage class\n",
    "    \"\"\"\n",
    "    if ax is None:\n",
    "        fig, ax = plt.subplots()\n",
    "\n",
    "    L = spins.shape[0]\n",
    "\n",
    "    # create discrete colormap\n",
    "    cmap = colors.ListedColormap(['mediumspringgreen', 'darkturquoise', 'slateblue', 'mediumorchid'])\n",
    "    bounds = [-2, -0.9, 0, 0.9, 2]\n",
    "    norm = colors.BoundaryNorm(bounds, cmap.N)\n",
    "\n",
    "    Imshow_axes = ax.imshow(spins, cmap=cmap, norm=norm)\n",
    "    ax.grid(color='w', linestyle='-', linewidth=2)\n",
    "    ax.set_xticks(numpy.arange(-.5, L, 1))\n",
    "    ax.set_yticks(numpy.arange(-.5, L, 1))\n",
    "\n",
    "    ax.spines['top'].set_visible(False)\n",
    "    ax.spines['right'].set_visible(False)\n",
    "    ax.spines['bottom'].set_visible(False)\n",
    "    ax.spines['left'].set_visible(False)\n",
    "\n",
    "    for xlabel_i in ax.axes.get_xticklabels():\n",
    "        xlabel_i.set_visible(False)\n",
    "        xlabel_i.set_fontsize(0.0)\n",
    "\n",
    "    for xlabel_i in ax.axes.get_yticklabels():\n",
    "        xlabel_i.set_fontsize(0.0)\n",
    "        xlabel_i.set_visible(False)\n",
    "\n",
    "    for tick in ax.axes.get_xticklines():\n",
    "        tick.set_visible(False)\n",
    "\n",
    "    for tick in ax.axes.get_yticklines():\n",
    "        tick.set_visible(False)\n",
    "    \n",
    "    return Imshow_axes"
   ]
  },
  {
   "cell_type": "markdown",
   "metadata": {},
   "source": [
    "To check this works let's create a random lattice of spins"
   ]
  },
  {
   "cell_type": "code",
   "execution_count": 9,
   "metadata": {},
   "outputs": [
    {
     "data": {
      "image/png": "[encoded data removed]",
      "text/plain": [
       "<Figure size 432x288 with 1 Axes>"
      ]
     },
     "metadata": {},
     "output_type": "display_data"
    }
   ],
   "source": [
    "# Create an empty figure\n",
    "fig, ax = plt.subplots()\n",
    "\n",
    "# Plot the random spin arrangement\n",
    "spin_test = numpy.random.randint(2, size=(8, 8)) * 2 - 1\n",
    "plot_spins(spin_test, ax)\n",
    "plt.show()"
   ]
  },
  {
   "cell_type": "markdown",
   "metadata": {},
   "source": [
    "For the purpose of parrallelisation of the Metropolis-Hastings algorithm, the following function constructs a chessboard pattern over a lattice. This is only possible on lattices with even side lengths, because of periodic boundary conditions. This function is written for two-dimensions though it could be extended to higher dimensions easily."
   ]
  },
  {
   "cell_type": "code",
   "execution_count": 10,
   "metadata": {},
   "outputs": [
    {
     "data": {
      "image/png": "[encoded data removed]",
      "text/plain": [
       "<Figure size 432x288 with 1 Axes>"
      ]
     },
     "metadata": {},
     "output_type": "display_data"
    }
   ],
   "source": [
    "def chessboard_2D(L):\n",
    "    \"\"\"\n",
    "        This function creates a two-dimensional chessboard pattern for the purpose of vectorising\n",
    "        the Metropolis-Hastings algorithm.\n",
    "\n",
    "        INPUTS:\n",
    "        -------\n",
    "        L: Even integer, lattice side-length\n",
    "\n",
    "        OUTPUTS:\n",
    "        --------\n",
    "        (L, L) numpy array of ints\n",
    "    \"\"\"\n",
    "    assert type(L) == int, \"The lattice should have an integer number sidelength\"\n",
    "    assert L%2 == 0, \"L should be even\"\n",
    "\n",
    "    board = numpy.zeros((L, L), dtype=int)\n",
    "\n",
    "    for i in range(L):\n",
    "        for j in range(L):\n",
    "            board[i, j] = (i + j) % 2\n",
    "\n",
    "    return board\n",
    "\n",
    "# Plot an example 8 x 8 chessboard\n",
    "fig, ax = plt.subplots()\n",
    "plot_spins(chessboard_2D(8) * 2 - 1, ax)\n",
    "plt.show()"
   ]
  },
  {
   "cell_type": "markdown",
   "metadata": {},
   "source": [
    "In the Ising model the energy is given by\n",
    "$H = -J \\sum_{i, j \\: (n.n.)}s_is_j - B\\sum_i s_i$, where n.n. stands for nearest neighbours. We are therefore compelled to have an easy way to calculate the sum of the spins of nearest neighbours to a point. We will take $J = 1$, $B = 0$ throughout this project."
   ]
  },
  {
   "cell_type": "code",
   "execution_count": 11,
   "metadata": {},
   "outputs": [],
   "source": [
    "def neighbour_total(spin_array):\n",
    "    \"\"\"\n",
    "        This function takes an array of spins, and returns, at each position in\n",
    "        the lattice, the total of the neighbouring spins to that lattice position.\n",
    "\n",
    "        INPUTS :\n",
    "        --------\n",
    "        spin_array: numpy array object with entries of either 1 or (-1)\n",
    "\n",
    "        OUTPUTS :\n",
    "        ---------\n",
    "        total_neighbour_spin: a numpy array of the same shape and type as the spin_array\n",
    "    \"\"\"\n",
    "    total_neighbour_spin = numpy.zeros(spin_array.shape)\n",
    "\n",
    "    for dim in range(len(spin_array.shape)):\n",
    "        total_neighbour_spin += numpy.roll(spin_array, 1, axis=dim)\n",
    "        total_neighbour_spin += numpy.roll(spin_array, -1, axis=dim)\n",
    "\n",
    "    return total_neighbour_spin"
   ]
  },
  {
   "cell_type": "markdown",
   "metadata": {},
   "source": [
    "## 1. 2. Generating Configurations\n",
    "Configurations are generated by performing steps of the Metropolis-Hastings algorithm on a lattice of spins. We either initise a random assorment of spins or initize the class with a pre-existing array of spins."
   ]
  },
  {
   "cell_type": "code",
   "execution_count": 12,
   "metadata": {},
   "outputs": [],
   "source": [
    "class lattice(object):\n",
    "    def __init__(self, L, splitting, beta=1, spins=None):\n",
    "        \"\"\"\n",
    "            INPUTS :\n",
    "            --------\n",
    "            L: even int, sidelength of lattice\n",
    "\n",
    "            splitting: tuple of ints, the number of sublattices in each dimension\n",
    "\n",
    "            beta: float, the inverse temperature\n",
    "            \n",
    "            spins: (L, L) numpy array with either -1 or +1 at each entry. This is a starting\n",
    "                configuration of spins. If None then the starting configuration of spins will be\n",
    "                generated randomly\n",
    "        \"\"\"\n",
    "        if spins is None:\n",
    "            spins = numpy.random.randint(0, 2, size=(L, L)) * 2 - 1\n",
    "\n",
    "        else:\n",
    "            self.spins = spins\n",
    "\n",
    "        self.spins = numpy.array(spins, dtype=numpy.int8) # For reduced memory / harddrive usage\n",
    "        self.chessboard = chessboard_2D(L)\n",
    "        self.regions = region_maker(L, splitting)\n",
    "        self.beta = beta\n",
    "        self.L = L\n",
    "\n",
    "        # This is the total energy associated with all interactions at a point - to get the correct\n",
    "        # total energy density this value should be halved, since interactions involve two sites.\n",
    "        self.energies = -self.spins * neighbour_total(self.spins)\n",
    "\n",
    "    def step(self):\n",
    "        \"\"\"\n",
    "            This function performs one step of the Metropolis-Hastings algorithm, updating the\n",
    "            spins and energies.\n",
    "        \"\"\"\n",
    "        ## Flip the white squares  (of the \"chessboard\") first\n",
    "\n",
    "        # The amount the energy will change if the spin flips\n",
    "        delta_E = -self.energies * 2  \n",
    "        \n",
    "        # Using the metropolis algorithm\n",
    "        jump_condition = numpy.exp(-self.beta * delta_E) > numpy.random.rand(self.L, self.L)\n",
    "\n",
    "        # Flip a site if\n",
    "        # 1. It passes the Metropolis-Hastings flip condition\n",
    "        # 2. The site isn't on the boundary\n",
    "        # 3. It is one of the squares on the chessboard being flipped\n",
    "        to_flip = numpy.logical_and(jump_condition,\n",
    "                                    numpy.logical_and(self.regions, self.chessboard))\n",
    "\n",
    "        self.spins = numpy.where(to_flip, -self.spins, self.spins)\n",
    "        \n",
    "        # Recalculate all site energies\n",
    "        self.energies = -self.spins * neighbour_total(self.spins)\n",
    "\n",
    "        ## Now flip the black squares\n",
    "        delta_E = -self.energies * 2\n",
    "        jump_condition = numpy.exp(-self.beta * delta_E) > numpy.random.rand(self.L, self.L)\n",
    "\n",
    "        to_flip = numpy.logical_and(jump_condition,\n",
    "                                    numpy.logical_and(self.regions,\n",
    "                                                      numpy.logical_not(self.chessboard)))\n",
    "\n",
    "        self.spins = numpy.where(to_flip, -self.spins, self.spins)\n",
    "        self.energies = -self.spins * neighbour_total(self.spins)"
   ]
  },
  {
   "cell_type": "markdown",
   "metadata": {},
   "source": [
    "The following function generates $N$ configurations of the two-dimensional Ising model with a single level algorithm. It is named with '1_1', because you can think of a lattice with no subdivisions as being constructed from 1x1 sublattices."
   ]
  },
  {
   "cell_type": "code",
   "execution_count": 13,
   "metadata": {},
   "outputs": [],
   "source": [
    "def generate_states_1_1(L, beta, N, step, rerun=False):\n",
    "    \"\"\"\n",
    "        INPUTS :\n",
    "        --------\n",
    "        L: int, sidelength of lattice\n",
    "\n",
    "        beta: float, the inverse temperature\n",
    "\n",
    "        N: int, number of configurations to save in the ensemble\n",
    "\n",
    "        step: int, number of update steps between configurations\n",
    "\n",
    "        rerun: bool, if True then rerun the generation even if a saved file with this ensemble is\n",
    "            found\n",
    "            \n",
    "        OUTPUTS :\n",
    "        ---------\n",
    "        (N, L, L) numpy array of ints representing N spin configurations of size (L, L)\n",
    "    \"\"\"\n",
    "    # Save file location\n",
    "    filename = template_1_1(L, beta, N, step)\n",
    "    directory = f\"{base_directory}data/\"\n",
    "\n",
    "    # If the saved data is found, and rerun is False then load the data\n",
    "    if (not rerun) and file_exists(directory, filename):\n",
    "        return numpy.load(f\"{directory}{filename}\")\n",
    "  \n",
    "    print(f\"Generating states for : L = {L}, N = {N}, beta = {beta:.10f}, splitting = (1, 1)\")\n",
    "\n",
    "    data = numpy.zeros((N, L, L), dtype=numpy.int8)\n",
    "\n",
    "    x = lattice(L, (1, 1), beta=beta)\n",
    "\n",
    "    # Use 50 * step for the number of thermalization steps\n",
    "    initial = step * 50\n",
    "\n",
    "    # Perform the init equillibriating steps of the Monte Carlo\n",
    "    for j in range(initial):\n",
    "        x.step()\n",
    "\n",
    "    # Now start recording configurations\n",
    "    for i in range((N - 1) * step + 1):\n",
    "        if(i % step == 0):\n",
    "            data[i // step] = x.spins\n",
    "\n",
    "        x.step()\n",
    "\n",
    "    numpy.save(f\"{directory}{filename}\", data)\n",
    "\n",
    "    return data"
   ]
  },
  {
   "cell_type": "markdown",
   "metadata": {},
   "source": [
    "To generate ensembles with a split lattice the technique is very similar except for each of the N \"higher-level\" configurations, the configurations of the boundary spins are taken, and M multilevel states are produced from there."
   ]
  },
  {
   "cell_type": "code",
   "execution_count": 14,
   "metadata": {},
   "outputs": [],
   "source": [
    "def generate_states_splitting(L, beta, N, M, step, splitting, rerun=False):\n",
    "    \"\"\"\n",
    "        INPUTS :\n",
    "        --------\n",
    "        L: int, size length\n",
    "\n",
    "        beta: float, inverse temperature\n",
    "\n",
    "        N: int, number of boundary configurations\n",
    "\n",
    "        M: int, number of sublattice configurations per boundary\n",
    "\n",
    "        step: int, number of update steps between sublattice configurations\n",
    "\n",
    "        splitting: (2, ) tuple of ints giving the number of sublattices in each direction\n",
    "        \n",
    "        OUTPUTS :\n",
    "        ---------\n",
    "        (N, M, L, L) numpy array of {-1, 1} representing the spin configurations\n",
    "    \"\"\"\n",
    "    i, j = splitting[0], splitting[1]\n",
    "\n",
    "    directory = f\"{base_directory}data/\"\n",
    "    filename = template_splitting(L, beta, N, M, step, i, j)\n",
    "\n",
    "    # This is the file of single level data used to construct multilevel data\n",
    "    source_file = template_1_1(L, beta, N, step)\n",
    "    \n",
    "    # If the saved data is found, and rerun is False then load the data\n",
    "    if (not rerun) and file_exists(directory, filename):\n",
    "        return numpy.load(f\"{directory}{filename}\")\n",
    "\n",
    "    data = numpy.zeros((N, M, L, L), dtype=numpy.int8)\n",
    "    \n",
    "    # Check if the source file exists\n",
    "    if not file_exists(directory, source_file):\n",
    "        print(\"No source configuration files - generating these first\")\n",
    "        generate_states_1_1(L, beta, N, step, rerun=rerun)\n",
    "\n",
    "    elif rerun:\n",
    "        print(\"Rerunning source configurations\")\n",
    "        generate_states_1_1(L, beta, N, step, rerun=rerun)\n",
    "\n",
    "    # Load in N configurations from source file\n",
    "    source_data = numpy.load(f\"{directory}{source_file}\")[0: N]\n",
    "\n",
    "    print(f\"Generating states for : L = {L}, N = {N}, M = {M}, beta = {beta:.10f}, splitting = ({i}, {j})\")\n",
    "\n",
    "    for k in range(N):\n",
    "        # Use the spin configurations from the single level data as starting points\n",
    "        x = lattice(L, splitting, beta=beta, spins=source_data[k])\n",
    "\n",
    "        for l in range((M - 1) * step + 1):\n",
    "            if l % step == 0:\n",
    "                data[k, l // step] = x.spins\n",
    "\n",
    "            x.step()\n",
    "\n",
    "    numpy.save(f\"{directory}{filename}\", data)\n",
    "\n",
    "    return data"
   ]
  },
  {
   "cell_type": "markdown",
   "metadata": {},
   "source": [
    "## 1. 3. Visualization\n",
    "To check that the system is behaving as expected, the following movie function that will iterate through some of this multilevel data, showing the evolution of the spin array."
   ]
  },
  {
   "cell_type": "code",
   "execution_count": 15,
   "metadata": {},
   "outputs": [],
   "source": [
    "def animate(lattice_data, dt=0.1):\n",
    "    \"\"\"\n",
    "        INPUTS :\n",
    "        --------\n",
    "        lattice_data: (N, L, L) or (N, M, L, L) numpy array of {-1, 1} - single level or multilevel\n",
    "            spin data.\n",
    "\n",
    "        dt: float, change in time between frames\n",
    "\n",
    "        RETURNS :\n",
    "        ---------\n",
    "        ani : Instance of matplotlib.animation.FuncAnimation class\n",
    "    \"\"\"\n",
    "    # True for multilevel and single level\n",
    "    L = lattice_data.shape[2]\n",
    "\n",
    "    #  If the data is multilevel, we want to change the array shape to (N * M, L, L) first\n",
    "    if len(lattice_data.shape) == 4:\n",
    "        multi = True\n",
    "\n",
    "        # Number of frames equals number of configs/subconfigs\n",
    "        no_iterations = lattice_data.shape[0] * lattice_data.shape[1]\n",
    "\n",
    "        lattice_data = lattice_data.reshape((lattice_data.shape[0] * lattice_data.shape[1], L, L))\n",
    "\n",
    "    else:\n",
    "        multi = False\n",
    "        no_iterations = lattice_data.shape[0]\n",
    "\n",
    "    # Create figure and axis\n",
    "    fig = plt.figure()\n",
    "    ax = plt.gca()\n",
    "\n",
    "    # Setting the axes properties\n",
    "    ax.set_xlim([-0.5, L - 0.5])\n",
    "    ax.set_ylim([-0.5, L - 0.5])\n",
    "\n",
    "    #  In order to highlight the bounary sites\n",
    "    if multi:\n",
    "        lattice_data = lattice_data.astype(float)\n",
    "        lattice_data[:, 0, :] *= 0.5\n",
    "        lattice_data[:, L // 2, :] *= 0.5\n",
    "        lattice_data[:, :, 0] *= 0.5\n",
    "        lattice_data[:, :, L // 2] *= 0.5\n",
    "\n",
    "    plot_me = plot_spins(lattice_data[0], ax)\n",
    "\n",
    "    def update(num):\n",
    "        data = lattice_data[num]\n",
    "        plot_me.set_data(data)\n",
    "        return plot_me,\n",
    "\n",
    "    # Creating the Animation object\n",
    "    ani = FuncAnimation(fig, update, frames=range(no_iterations), interval=int(dt * 1000),\n",
    "                        blit=True, repeat=False)\n",
    "\n",
    "    return ani"
   ]
  },
  {
   "cell_type": "markdown",
   "metadata": {},
   "source": [
    "High temperature single level. The boundary layers are highlighted, however, for a single level algorithm they are equivalent to non-boundary sites. They are shown for easy comparison to the later multilevel example."
   ]
  },
  {
   "cell_type": "code",
   "execution_count": 16,
   "metadata": {},
   "outputs": [
    {
     "data": {
      "image/png": "[encoded data removed]",
      "text/plain": [
       "<Figure size 432x288 with 1 Axes>"
      ]
     },
     "metadata": {},
     "output_type": "display_data"
    }
   ],
   "source": [
    "L = 16\n",
    "beta = 0.4\n",
    "N = 100\n",
    "step = 1\n",
    "\n",
    "data = generate_states_1_1(L, beta, N, step, rerun=False)\n",
    "\n",
    "anim = animate(data)\n",
    "\n",
    "directory = f'{base_directory}movies/'\n",
    "filename = 'single_level_spin_movie.gif'\n",
    "\n",
    "# GIF type animation saved to file\n",
    "anim.save(f'{directory}{filename}', dpi=500)"
   ]
  },
  {
   "cell_type": "markdown",
   "metadata": {},
   "source": [
    "And now let us study the effects of the boundary. In the following video, N=10 and M=10, so there are 10 boundary configurations and 10 sublattice updates per boundary. I will use the previous configurations as a source of boundary configurations."
   ]
  },
  {
   "cell_type": "code",
   "execution_count": 17,
   "metadata": {},
   "outputs": [
    {
     "data": {
      "image/png": "[encoded data removed]",
      "text/plain": [
       "<Figure size 432x288 with 1 Axes>"
      ]
     },
     "metadata": {},
     "output_type": "display_data"
    }
   ],
   "source": [
    "N = 10\n",
    "M = 10\n",
    "L = 16\n",
    "step = 1\n",
    "beta = 0.4\n",
    "\n",
    "data = generate_states_splitting(L, beta, N, M, step, (2, 2))\n",
    "\n",
    "anim = animate(data)\n",
    "\n",
    "directory = f'{base_directory}movies/'\n",
    "filename = 'multi_level_spin_movie.gif'\n",
    "\n",
    "# GIF type animation saved to file\n",
    "anim.save(f'{directory}{filename}', dpi=500)"
   ]
  },
  {
   "cell_type": "markdown",
   "metadata": {},
   "source": [
    "Note that for a smoother animation a step size of 1 was used. However, because of autocorrelations it is often necessary to use a larger step size. I found in this project that a step size of 20 gave acceptable results."
   ]
  },
  {
   "cell_type": "markdown",
   "metadata": {},
   "source": [
    "## 2.1. Implementing slice classes\n",
    "### 2.1.1 Single Level"
   ]
  },
  {
   "cell_type": "code",
   "execution_count": 18,
   "metadata": {},
   "outputs": [],
   "source": [
    "class single_slice_ising:\n",
    "    def __init__(self, L, beta, N, step, rerun=False):\n",
    "        \"\"\"\n",
    "            INPUTS :\n",
    "            --------\n",
    "            L: int, side length of the lattice\n",
    "\n",
    "            beta: float, inverse temperature\n",
    "\n",
    "            N: int,number of configurations\n",
    "\n",
    "            step: int, number of update steps between configurations\n",
    "\n",
    "            rerun: bool, if True then source files will be regenerated regardless of whether save\n",
    "                files are found\n",
    "        \"\"\"\n",
    "        # Generate or load in relevent configuration\n",
    "        self.spins = generate_states_1_1(L, beta, N, step, rerun=rerun)\n",
    "\n",
    "        # Average over one of the spatial dimensions of the lattice\n",
    "        self.spin_slice = numpy.mean(self.spins, axis=2)\n",
    "\n",
    "        self.beta = beta\n",
    "        self.L = L\n",
    "        self.N = N\n",
    "        self.step = step\n",
    "\n",
    "    def twopt(self, delta, rerun=False):\n",
    "        \"\"\"\n",
    "            Function that calculates the value of the two-point function with a seperation of delta\n",
    "            \n",
    "            INPUTS :\n",
    "            --------\n",
    "            delta: int, seperation distance between slices\n",
    "            \n",
    "            RETURNS :\n",
    "            ---------\n",
    "            (N, L) numpy array of floats\n",
    "        \"\"\"\n",
    "        # As algorithm is deterministic, then one can choose to load the results from a save file\n",
    "        directory = f\"{base_directory}data/\"\n",
    "        filename = template_twopt(self.L, self.beta, self.N, self.step, delta)\n",
    "\n",
    "        # Check if the data already exists (only if rerun is False)\n",
    "        if (not rerun) and file_exists(directory, filename):\n",
    "            return numpy.load(f\"{directory}{filename}\")\n",
    "\n",
    "        twopt = self.spin_slice * numpy.roll(self.spin_slice, -delta, axis=1)\n",
    "\n",
    "        numpy.save(f\"{directory}{filename}\", twopt)\n",
    "\n",
    "        return twopt\n",
    "\n",
    "    def twopt_bootstrap(self, delta, no_samples, seed=0, rerun=False):\n",
    "        \"\"\"\n",
    "            This function performs a bootstrap over samples of the configurations and calculates\n",
    "            the two-point function of the samples.\n",
    "\n",
    "            INPUTS:\n",
    "            -------\n",
    "            delta: int, seperation distance between slices\n",
    "\n",
    "            no_samples: int, number of bootstrap samples\n",
    "\n",
    "            RETURNS:\n",
    "            --------\n",
    "            (no_samples, ) array of floats\n",
    "        \"\"\"\n",
    "        # As algorithm is deterministic, then one can choose to load the results from a save file\n",
    "        directory = f\"{base_directory}data/\"\n",
    "        filename = template_twopt_bootstrap(self.L, self.beta, self.N, self.step, delta, no_samples)\n",
    "\n",
    "        # Check if the data already exists (only if rerun is False)\n",
    "        if (not rerun) and file_exists(directory, filename):\n",
    "            return numpy.load(f\"{directory}{filename}\")\n",
    "\n",
    "        numpy.random.seed(seed)\n",
    "\n",
    "        # Load in the twopt calculations\n",
    "        twopt = numpy.mean(self.twopt(delta, rerun=rerun), axis=1)\n",
    "\n",
    "        # Perform a bootstrap\n",
    "        bootstrap = numpy.random.randint(self.N, size=(no_samples, self.N))\n",
    "        result = numpy.zeros(no_samples)\n",
    "\n",
    "        for i in range(no_samples):\n",
    "            result[i] = numpy.mean(twopt[bootstrap[i]])\n",
    "\n",
    "        numpy.save(f\"{directory}{filename}\", result)\n",
    "\n",
    "        return result"
   ]
  },
  {
   "cell_type": "markdown",
   "metadata": {},
   "source": [
    "### 2.1.2. Multilevel\n",
    "\n",
    "Before we get the full class defintion we need the following accessary function. This is a first pass attempt to find the weighting scheme we should use when constructing weighted averages in a multilevel scheme. Correlators between two boundaries have a weight of $1$, while correlators between a boundary and a non-boundary site, or between two sites in the same sub-lattice, have a weight of $M$. Correlators between two different sub-lattices have a weight of $M^2$. These weights are then normalized by $\\sum_x W^m_x = 1$"
   ]
  },
  {
   "cell_type": "code",
   "execution_count": 19,
   "metadata": {},
   "outputs": [],
   "source": [
    "def basic_weights(L, splitting, delta, M):\n",
    "    \"\"\"\n",
    "        This function performs the basic weighting scheme where\n",
    "        > boundary-boundary correlators are weighted at 1\n",
    "        > boundary-sub-lattice and correlators within the same sub-lattice are weighted at M\n",
    "        > correlators between different sub-lattices are weighted at M^2\n",
    "\n",
    "        INPUTS :\n",
    "        --------\n",
    "        L : int, sidelength of the lattice\n",
    "        splitting : int, number of sublattices in the remaining dimension after slice-averaging\n",
    "        delta : the displacement along the slice direction\n",
    "        M : int, Number of sublattice updates per boundary update\n",
    "        \n",
    "        RETURNS :\n",
    "        ---------\n",
    "        (L / splitting, ) numpy array of float/int\n",
    "    \"\"\"\n",
    "    # Set all the weights to M\n",
    "    xweights = numpy.ones(L) * M\n",
    "\n",
    "    # Set boundaries to 1\n",
    "    xweights[::L // splitting] = 1\n",
    "\n",
    "    # Roll to get calculate weights at second point, y\n",
    "    yweights = numpy.roll(xweights, -delta)\n",
    "\n",
    "    # Calculate the regions\n",
    "    xregions = region_maker(L, (splitting, ))\n",
    "\n",
    "    # roll this to get regions for second point\n",
    "    yregions = numpy.roll(xregions, -delta)\n",
    "\n",
    "    # Use this to determine weights\n",
    "    weights = numpy.where(xregions != yregions, xweights * yweights, xweights)\n",
    "\n",
    "    return weights[:L//splitting]"
   ]
  },
  {
   "cell_type": "markdown",
   "metadata": {},
   "source": [
    "Let's look at an example: An L = 12 lattice, divided into two. Let's first consider a two-point function of $\\delta = 6$. This means that all contributions, except those of the boundary, benefit from multilevel, and so get an M^2 weight, while the boundary has a weight of 1.\n",
    "\n",
    "Note also that there are only 6 values given in the output. This is because the lattice is translationally invariant under a shift of the size of the sublattice, so the weights associated with x in {0, 5} are the same as those with x in {6, 11}"
   ]
  },
  {
   "cell_type": "code",
   "execution_count": 20,
   "metadata": {},
   "outputs": [
    {
     "data": {
      "text/plain": [
       "array([  1., 100., 100., 100., 100., 100.])"
      ]
     },
     "execution_count": 20,
     "metadata": {},
     "output_type": "execute_result"
    }
   ],
   "source": [
    "basic_weights(12, 2, 6, 10)"
   ]
  },
  {
   "cell_type": "markdown",
   "metadata": {},
   "source": [
    "Now consider a two-point seperation of 2, meaning that only two-point functions involving lattice sites directly adjacent to the boundary will benefit from multilevel."
   ]
  },
  {
   "cell_type": "code",
   "execution_count": 21,
   "metadata": {},
   "outputs": [
    {
     "data": {
      "text/plain": [
       "array([ 10.,  10.,  10.,  10.,  10., 100.])"
      ]
     },
     "execution_count": 21,
     "metadata": {},
     "output_type": "execute_result"
    }
   ],
   "source": [
    "basic_weights(12, 2, 2, 10)"
   ]
  },
  {
   "cell_type": "markdown",
   "metadata": {},
   "source": [
    "To get the optimum weights, we will need some maths. A priori, all of the two-point estimators at each slice coordinate are random variables with a mean given by the true lattice value of the twopt function and some variance. All of these variances/covariances together form a covariance matrix, COV. By averaging over the N boundary configurations and assuming that the central limit theorum holds, then the two-point estimators are individually of the form $N\\left(C_2(\\delta), \\frac{\\sigma^2}{N}\\right)$. When we make a weighted average of these estimators, with weight vector $\\textbf{w}$, we get a general result of $N\\left(C_2(\\delta), \\frac{\\textbf{w}\\cdot COV \\cdot \\textbf{w}}{N}\\right)$.\n",
    "\n",
    "We therefore get the minimization problem of minimizing $\\textbf{w}\\cdot COV \\cdot \\textbf{w}$ with respect to $\\textbf{w}$, while maintaining $\\sum_x{w(x)} = 1$. This has the solution\n",
    "\n",
    "$W_y = \\frac{\\sum_x Cov_{xy}^{-1}}{\\sum_{x y} Cov_{xy}^{-1}}$"
   ]
  },
  {
   "cell_type": "code",
   "execution_count": 22,
   "metadata": {},
   "outputs": [],
   "source": [
    "def get_weights(cov_matrix):\n",
    "    \"\"\"\n",
    "        This function calculates the optimum weights for multilevel correlators given a covariance\n",
    "        matrix of the correlator values.\n",
    "\n",
    "        INPUTS:\n",
    "        -------\n",
    "        cov_matrix: (L // splitting, L // splitting) numpy array of floats, where L is the lattice\n",
    "            size and splitting is the number of sub-lattices the lattice is divided into in the\n",
    "            dimension perpendicular to the slice coordinates\n",
    "\n",
    "        RETURNS:\n",
    "        --------\n",
    "        (L // splitting, ) numpy array of floats\n",
    "    \"\"\"\n",
    "    # Invert the matrix and use this to caclulate the weights\n",
    "    cov_inv = numpy.linalg.inv(cov_matrix)\n",
    "    weights_vector = numpy.sum(cov_inv, axis=1)\n",
    "\n",
    "    # Normalieze the weights\n",
    "    weights_vector = weights_vector / numpy.sum(weights_vector)\n",
    "\n",
    "    return weights_vector"
   ]
  },
  {
   "cell_type": "markdown",
   "metadata": {},
   "source": [
    "We are now ready to make the multilevel slice class."
   ]
  },
  {
   "cell_type": "code",
   "execution_count": 23,
   "metadata": {},
   "outputs": [],
   "source": [
    "class multi_slice_ising:\n",
    "    def __init__(self, L, beta, N, M, splitting=2, step=100, rerun=False):\n",
    "        \"\"\"\n",
    "            INPUTS:\n",
    "            -------\n",
    "            L: int, side length of the lattice\n",
    "\n",
    "            beta: float, inverse temperature\n",
    "\n",
    "            N: int, number of boundary configurations\n",
    "\n",
    "            M: int, number of sub-lattice configurations\n",
    "\n",
    "            step: int, number of update steps between configurations\n",
    "\n",
    "            splitting: int, number of sub-lattices the lattice is divided into in the dimension\n",
    "                perpendicular to the slice coordinates\n",
    "\n",
    "            rerun: bool, if True then source files will be regenerated regardless of whether save\n",
    "                files are found\n",
    "        \"\"\"\n",
    "        self.spins = generate_states_splitting(L, beta, N, M, step, (splitting, 1), rerun=rerun)\n",
    "        self.spin_slice = numpy.mean(self.spins, axis=3)\n",
    "        self.beta = beta\n",
    "        self.L = L\n",
    "        self.N = N\n",
    "        self.step = step\n",
    "        self.M = M\n",
    "        self.regions = region_maker(L, (splitting, ))\n",
    "        self.splitting = splitting\n",
    "\n",
    "    def twopt(self, delta, rerun=False):\n",
    "        \"\"\"\n",
    "            Calculate the two-point function between slice coordinates with a seperation of delta.\n",
    "\n",
    "            INPUTS:\n",
    "            -------\n",
    "            delta: int, seperation between slices in the two-point function\n",
    "\n",
    "            RETURNS:\n",
    "            --------\n",
    "            (N, L) numpy array of floats\n",
    "        \"\"\"\n",
    "        directory = f\"{base_directory}data/\"\n",
    "        filename = template_twopt_multi(self.L, self.beta, self.N, delta, self.M, self.step,\n",
    "                                        self.splitting)\n",
    "\n",
    "        if (not rerun) and file_exists(directory, filename):\n",
    "            return numpy.load(f\"{directory}{filename}\")\n",
    "        \n",
    "        # Calculate the twopt function for each value of N first\n",
    "        x_slice = self.spin_slice\n",
    "        regions = self.regions\n",
    "\n",
    "        y_slice = numpy.roll(x_slice, -delta, axis=2)\n",
    "        y_regions = numpy.roll(regions, -delta)\n",
    "\n",
    "        # Multilevel product\n",
    "        combinatoric_av = numpy.zeros((self.N, self.L))\n",
    "        for i in range(self.M):\n",
    "            for j in range(self.M):\n",
    "                combinatoric_av += x_slice[:, i, :] * y_slice[:, j, :] / (self.M) ** 2\n",
    "        \n",
    "        # For twopt correlators where multilevel isn't valid\n",
    "        within_region = x_slice * y_slice\n",
    "\n",
    "        # Average over sublattice configurations\n",
    "        within_region_av = numpy.mean(within_region, axis=1)\n",
    "\n",
    "        # Perform a multilevel product where applicable (two sites in different subregions)\n",
    "        twopt = numpy.where(regions != y_regions, combinatoric_av, within_region_av)\n",
    "\n",
    "        numpy.save(f\"{directory}{filename}\", twopt)\n",
    "\n",
    "        return twopt\n",
    "\n",
    "    def twopt_weighted(self, delta, no_samples, weights=\"optimized\", bin_size=1, seed=0, rerun=False):\n",
    "        \"\"\"\n",
    "            This calculates an estimate of the two-point function, taking a weighted average over\n",
    "            the different locations in the lattice that contribute to the two-point function\n",
    "\n",
    "            INPUTS:\n",
    "            -------\n",
    "            delta: int, seperation between slices in the two-point function\n",
    "\n",
    "            no_samples: int, number of bootstrap samples\n",
    "\n",
    "            weights: string, one of three options:\n",
    "                > 'optimized': Choose the weighting scheme that gives the minimum standard\n",
    "                    deviation by calling the function get_weights()\n",
    "                > 'basic': Use the basic weighting scheme with a call to the basic_weights()\n",
    "                    function\n",
    "                > 'even': All contributions are weighted equally\n",
    "\n",
    "            bin_size: int, the size of the bins used for seperating the data when calculating\n",
    "                weights. Only relevent for the weights='optimized'\n",
    "\n",
    "            seed: int, the seed used for random number generation\n",
    "\n",
    "            RETURNS:\n",
    "            (no_samples, ) numpy array of floats\n",
    "        \"\"\"\n",
    "        directory = f\"{base_directory}data/\"\n",
    "        filename = template_twopt_multi_weighted(self.L, self.beta, self.N, self.M, self.step,\n",
    "                                                 delta, no_samples, weights, bin_size)\n",
    "\n",
    "        if (not rerun) and file_exists(directory, filename):\n",
    "            return numpy.load(f\"{directory}{filename}\")\n",
    "\n",
    "        numpy.random.seed(seed)\n",
    "\n",
    "        # Calculate bootstrap samples for each set\n",
    "        bootstrap = numpy.random.randint(self.N, size=(no_samples, self.N))\n",
    "        result = numpy.zeros(no_samples)\n",
    "\n",
    "        # Load in the twopt calculations\n",
    "        twopt = self.twopt(delta, rerun=rerun)\n",
    "        twopt = twopt.reshape(self.N, self.splitting, self.L // self.splitting)\n",
    "        twopt = numpy.mean(twopt, axis=1)\n",
    "\n",
    "        for i in range(no_samples):\n",
    "            # Randomly shuffle the configurations\n",
    "            twopt_sample = twopt[bootstrap[i]]\n",
    "\n",
    "            if weights == 'optimized':\n",
    "                # Number of bins used for caclulation of the weights\n",
    "                assert self.N % bin_size == 0, \"The bin number must exactly divide N\"\n",
    "                no_bins = self.N // bin_size\n",
    "\n",
    "                for j in range(no_bins):\n",
    "                    # Extract all data except one bin, and seperately just that bin\n",
    "                    twopt_rest = twopt_sample[numpy.arange(twopt_sample.shape[0]) // bin_size != j]\n",
    "                    twopt_bin = twopt_sample[numpy.arange(twopt_sample.shape[0]) // bin_size == j]\n",
    "\n",
    "                    # Caclulate the covariance matrix\n",
    "                    cov_matrix = numpy.cov(twopt_rest, rowvar=False)\n",
    "\n",
    "                    weights_vector = get_weights(cov_matrix)\n",
    "\n",
    "                    # Use the weights of one group to find the average of another\n",
    "                    result[i] += numpy.mean(numpy.average(twopt_bin, weights=weights_vector,\n",
    "                                                          axis=1)) / no_bins\n",
    "\n",
    "            if weights == 'basic':\n",
    "                weights_vector = basic_weights(self.L, self.splitting, delta, self.M)\n",
    "\n",
    "                result[i] = numpy.mean(numpy.average(twopt_sample, weights=weights_vector, axis=1))\n",
    "\n",
    "            if weights == 'equal':\n",
    "                weights_vector = numpy.ones(self.L // self.splitting)\n",
    "\n",
    "                result[i] = numpy.mean(numpy.average(twopt_sample, weights=weights_vector, axis=1))\n",
    "\n",
    "        numpy.save(f\"{directory}{filename}\", result)\n",
    "        \n",
    "        return result"
   ]
  },
  {
   "cell_type": "markdown",
   "metadata": {},
   "source": [
    "While all estimators of the two-point function have the same mean, they have varying variance and covariance relative to eachother. To define this we first average the two-point function over the M^2 subconfigurations produced by multilevel, to get N values for each slice coordinate (N x L overall). We can then consider the L x L empirical covariance matrix of this data."
   ]
  },
  {
   "cell_type": "code",
   "execution_count": 24,
   "metadata": {
    "tags": []
   },
   "outputs": [
    {
     "data": {
      "image/png": "[encoded data removed]",
      "text/plain": [
       "<Figure size 432x288 with 2 Axes>"
      ]
     },
     "metadata": {
      "needs_background": "light"
     },
     "output_type": "display_data"
    }
   ],
   "source": [
    "N = 50\n",
    "M = 50\n",
    "L = 16\n",
    "delta = L // 2\n",
    "beta = 0.35\n",
    "\n",
    "data = multi_slice_ising(L, beta, N, M, 2)\n",
    "\n",
    "# Calculate the twopt function between points seperated by half the lattice size\n",
    "twopt_data = data.twopt(delta)\n",
    "\n",
    "cov_matrix = numpy.cov(twopt_data, rowvar=False)\n",
    "\n",
    "plt.imshow(cov_matrix)\n",
    "plt.colorbar()\n",
    "plt.savefig(f\"graphs/cov_matrix_N{N}_M{M}_L{L}_delta{delta}.png\", dpi=500)\n",
    "plt.show()"
   ]
  },
  {
   "cell_type": "markdown",
   "metadata": {},
   "source": [
    "Note that delta is L / 2, so there is a contribution between the two boundaries (as they are half the lattice size apart), which has high variance, as there is no new samples of this as the sub-lattices are simulated. The boundaries are located at positions 0 and 8, and so (0, 0) in the above is the variance of the first boundary correlator to the second. Similarly with (8, 8).\n",
    "\n",
    "The variance and covariance of points closer to the boundary are higher than those further from the boundary, because these points are influenced by the boundary and therefore vary less when we simulate the sub-lattices.\n",
    "\n",
    "The algorithm is symmetric in exchange of the two sublattices. We can simplify the covariance using this fact by averaging over the subregions. This is equivalant to taking the top-left corner of the covariance matrix calculated above (or any of the quadrants)."
   ]
  },
  {
   "cell_type": "code",
   "execution_count": 25,
   "metadata": {},
   "outputs": [
    {
     "data": {
      "image/png": "[encoded data removed]",
      "text/plain": [
       "<Figure size 432x288 with 2 Axes>"
      ]
     },
     "metadata": {
      "needs_background": "light"
     },
     "output_type": "display_data"
    }
   ],
   "source": [
    "twopt_data = ((twopt_data + numpy.roll(twopt_data, -L//2, axis=1))/2)[:, :L//2]\n",
    "\n",
    "cov_matrix = numpy.cov(twopt_data, rowvar=False)\n",
    "\n",
    "plt.imshow(cov_matrix)\n",
    "plt.colorbar()\n",
    "plt.show()"
   ]
  },
  {
   "cell_type": "markdown",
   "metadata": {},
   "source": [
    "### 2.2. Numerical Results\n",
    "\n",
    "We're now in a position to study the relative performance of single level vs. multilevel algorithms. We wish to look at the dependence of the performance on the correlation length. So we will use the following function to extract the correlation length from the two-point functions."
   ]
  },
  {
   "cell_type": "code",
   "execution_count": 26,
   "metadata": {},
   "outputs": [],
   "source": [
    "def cosh_fit_xi_only(twopt_data, L):\n",
    "    # Calculate the covarience matrix\n",
    "    cov = numpy.cov(twopt_data, rowvar=True)\n",
    "\n",
    "    # Invert the covarience matrix\n",
    "    cov_inv = numpy.linalg.inv(cov)\n",
    "\n",
    "    # Prepare the data for the fitted\n",
    "    y_s = numpy.mean(twopt_data, axis=1)\n",
    "    x_s = numpy.arange(0, L // 2 + 1)\n",
    "\n",
    "    # The expected functional form of the two-point correlator\n",
    "    def f(xi, x, y0):\n",
    "        A = y0 / (1 + numpy.exp(-L / xi))\n",
    "        return A * (numpy.exp(-x / xi) + numpy.exp(-(L - x) / xi))\n",
    "\n",
    "    # Define the residuals function\n",
    "    def chisq(xi):\n",
    "        unnormalized = y_s - f(xi, x_s, y_s[0])\n",
    "        return numpy.dot(unnormalized, numpy.dot(cov_inv, unnormalized))\n",
    "\n",
    "    # Minimize this function\n",
    "    res = minimize_scalar(chisq, bounds=[0, L], method='bounded')\n",
    "\n",
    "    xi = res.x\n",
    "\n",
    "    A = y_s[0] / (1 + numpy.exp(-L / xi))\n",
    "\n",
    "    return xi, A"
   ]
  },
  {
   "cell_type": "markdown",
   "metadata": {},
   "source": [
    "To do this study we need to find the perfomance and correlation length over a range of $\\beta$ (inverse temperature)."
   ]
  },
  {
   "cell_type": "code",
   "execution_count": 27,
   "metadata": {},
   "outputs": [],
   "source": [
    "def run_twopt_calculations(beta, N, M, L, no_samples=100, step=20, bin_size=10, rerun=False,\n",
    "                           seed=0, seed_single=0, seed_multi=0):\n",
    "    \"\"\"\n",
    "        This is a utility function which is used for the data generation of the numerical results\n",
    "        in this project.\n",
    "\n",
    "        INPUTS:\n",
    "        -------\n",
    "        beta: float, inverse temperature\n",
    "\n",
    "        L: int, side length of the lattice\n",
    "\n",
    "        N: int, number of boundary configurations\n",
    "\n",
    "        M: int, number of sub-lattice configurations\n",
    "\n",
    "        no_samples: int, number of bootstrap samples\n",
    "\n",
    "        step: int, number of update steps between configurations\n",
    "\n",
    "        bin_size: int, the size of bins used when calculating weights for weighted averages\n",
    "\n",
    "        rerun: bool, if True then source files will be regenerated regardless of whether save files\n",
    "            are found\n",
    "\n",
    "        seed: int, seed for random number generation\n",
    "\n",
    "        seed_single: int, seed for the two-point function bootstrap of the single level data\n",
    "\n",
    "        seed_multi: int, seed for the two-point function bootstrap of the multi level data\n",
    "\n",
    "        RETURNS:\n",
    "        --------\n",
    "        (4, no_deltas, L / 2 + 1) numpy array of floats\n",
    "    \"\"\"\n",
    "    no_deltas = L // 2 + 1\n",
    "    deltas = numpy.arange(0, no_deltas)\n",
    "\n",
    "    # At this point we focus just on a setup with two sub-lattices\n",
    "    splitting = 2\n",
    "\n",
    "    numpy.random.seed(seed)\n",
    "\n",
    "    directory = f\"{base_directory}data/\"\n",
    "    filename = template_twopt_calculation(beta, L, N, M, no_samples, step, bin_size)\n",
    "\n",
    "    if (not rerun) and file_exists(directory, filename):\n",
    "        return numpy.load(f\"{directory}{filename}\")\n",
    "\n",
    "    results = numpy.zeros((4, no_deltas, no_samples))\n",
    "\n",
    "    data = multi_slice_ising(L, beta, N, M, splitting, step=step, rerun=rerun)\n",
    "    data_single = single_slice_ising(L, beta, N * M, step, rerun=rerun)\n",
    "\n",
    "    for j, delta in enumerate(deltas):\n",
    "        print(f\"Calculating for beta = {beta}, delta = {delta}\")\n",
    "        results[0, j] = data_single.twopt_bootstrap(delta, no_samples, seed=seed_single,\n",
    "                                                    rerun=rerun)\n",
    "\n",
    "        results[1, j] = data.twopt_weighted(delta, no_samples, seed=seed_multi,\n",
    "                                            weights='optimized', bin_size=bin_size, rerun=rerun)\n",
    "\n",
    "        results[2, j] = data.twopt_weighted(delta, no_samples, seed=seed_multi, weights='basic',\n",
    "                                            bin_size=bin_size, rerun=rerun)\n",
    "\n",
    "        results[3, j] = data.twopt_weighted(delta, no_samples, seed=seed_multi, weights='equal',\n",
    "                                            bin_size=bin_size, rerun=rerun)\n",
    "\n",
    "    numpy.save(f\"{directory}{filename}\", results)\n",
    "    \n",
    "    return results"
   ]
  },
  {
   "cell_type": "markdown",
   "metadata": {},
   "source": [
    "Perform numerical calculations for L = 16 and L = 32 with 500 boundary configurations and 500 sub-lattice configurations."
   ]
  },
  {
   "cell_type": "code",
   "execution_count": 28,
   "metadata": {},
   "outputs": [],
   "source": [
    "# For the scaling plot later we require two values of L\n",
    "L = 32\n",
    "L_s = [L // 2, L]\n",
    "N = 500\n",
    "M = 500\n",
    "no_samples = 500\n",
    "no_betas = 32\n",
    "min_beta = 0.1\n",
    "max_beta = numpy.log(1 + numpy.sqrt(2)) / 2\n",
    "no_betas = 32\n",
    "betas = numpy.linspace(min_beta, max_beta, no_betas)\n",
    "full_results = {}\n",
    "rerun = False\n",
    "parallel = True\n",
    "\n",
    "def f(beta):\n",
    "    seed_single = int(numpy.rint((beta - min_beta) * (no_betas - 1) / (max_beta - min_beta)))\n",
    "    seed_multi = seed_single + no_betas\n",
    "\n",
    "    return run_twopt_calculations(beta, N, M, L, no_samples=no_samples, rerun=rerun,\n",
    "                                  seed_single=seed_single, seed_multi=seed_multi)\n",
    "\n",
    "for L in L_s:\n",
    "    p = Pool(os.cpu_count())\n",
    "\n",
    "    if parallel:\n",
    "        full_results[L] = numpy.array(p.map(f, betas))\n",
    "        p.close()\n",
    "    \n",
    "    else:\n",
    "        full_results[L] = []\n",
    "\n",
    "        for beta in betas:\n",
    "            full_results[L].append(f(beta))\n",
    "        \n",
    "        full_results[L] = numpy.array(full_results[L])"
   ]
  },
  {
   "cell_type": "markdown",
   "metadata": {},
   "source": [
    "Estimate the correlation length for each value of $\\beta$ in this simulation data."
   ]
  },
  {
   "cell_type": "code",
   "execution_count": 29,
   "metadata": {},
   "outputs": [],
   "source": [
    "directory = f'{base_directory}graphs/'\n",
    "\n",
    "# Calculate the correlation length of the system for each beta and L\n",
    "xis = {}\n",
    "\n",
    "for L in [L // 2, L]:\n",
    "    xis[L] = numpy.zeros(len(betas))\n",
    "    results = full_results[L]\n",
    "\n",
    "    for i, beta in enumerate(betas):\n",
    "        # Use the single level data to calculate the correlation length\n",
    "        res = cosh_fit_xi_only(results[i, 0, ...], L)\n",
    "        xis[L][i] = res[0]"
   ]
  },
  {
   "cell_type": "markdown",
   "metadata": {},
   "source": [
    "Produce the plot given at the Lattice conference."
   ]
  },
  {
   "cell_type": "code",
   "execution_count": 30,
   "metadata": {},
   "outputs": [
    {
     "data": {
      "image/png": "[encoded data removed]",
      "text/plain": [
       "<Figure size 864x432 with 2 Axes>"
      ]
     },
     "metadata": {
      "needs_background": "light"
     },
     "output_type": "display_data"
    }
   ],
   "source": [
    "results = full_results[L]\n",
    "deltas = numpy.arange(L//2 + 1)\n",
    "\n",
    "# Extract Standard deviations from the results\n",
    "single_stds = numpy.std(results[:, 0], axis=2)\n",
    "multi_stds = numpy.std(results[:, 1], axis=2)\n",
    "multi_basic = numpy.std(results[:, 2], axis=2)\n",
    "multi_unw = numpy.std(results[:, 3], axis=2)\n",
    "\n",
    "delta_sample = [L // 8, L // 2]\n",
    "font_size = 15\n",
    "\n",
    "fig, axes = plt.subplots(1, 2)\n",
    "\n",
    "for i, delta in enumerate(delta_sample):  \n",
    "    if len(numpy.array(axes).shape) == 1:\n",
    "        ax = axes[i]\n",
    "\n",
    "    else:\n",
    "        dim_x, dim_y = numpy.array(axes).shape\n",
    "        ax = axes[i // dim_y, i % dim_y]\n",
    "\n",
    "    ax.scatter(xis[L], (single_stds[:, delta] / multi_unw[:, delta])[:len(betas)], label='Even Weights', color='r')\n",
    "    ax.scatter(xis[L], (single_stds[:, delta] / multi_basic[:, delta])[:len(betas)], label='Basic weights', color='b')\n",
    "    ax.scatter(xis[L], (single_stds[:, delta] / multi_stds[:, delta])[:len(betas)], label='Optimum weights', color='g')\n",
    "    ax.plot([0, max(xis[L])], [1, 1], color='k', ls='--')\n",
    "    ax.plot([0, max(xis[L])], [numpy.sqrt(M), numpy.sqrt(M)], color='k', ls='--')\n",
    "    ax.plot([0, max(xis[L])], [1 / numpy.sqrt(M), 1 / numpy.sqrt(M)], color='k', ls='--')\n",
    "\n",
    "    ax.set_title(rf\"$\\delta = {delta}$\", fontsize=font_size)\n",
    "\n",
    "    ax.set_yscale('log')\n",
    "    ax.set_xscale('log')\n",
    "    ax.set_ylabel(r'$ \\sigma_s/\\sigma_m$', rotation=0, fontsize=font_size, position=(0.5, 0.65))\n",
    "    ax.set_xlabel(r\"$\\xi$\", fontsize=font_size)\n",
    "\n",
    "    if i == 0:\n",
    "        ax.legend(loc=(0.6, 0.7))\n",
    "        ax.text(0.45, 0.065, r' $ \\sigma_s/\\sigma_m = \\frac{1}{\\sqrt{M}} $ ', fontsize=font_size)\n",
    "        ax.text(0.45, 13.5, r' $ \\sigma_s/\\sigma_m = \\sqrt{M} $ ', fontsize=font_size)\n",
    "    \n",
    "    else:\n",
    "        ax.text(0.45, 0.065, r' $ \\sigma_s/\\sigma_m = \\frac{1}{\\sqrt{M}} $ ', fontsize=font_size)\n",
    "        ax.text(5, 13.5, r' $ \\sigma_s/\\sigma_m = \\sqrt{M} $ ', fontsize=font_size)\n",
    "\n",
    "    fig.set_size_inches((12, 6))\n",
    "    plt.tight_layout()\n",
    "\n",
    "    directory = f\"{base_directory}graphs/\"\n",
    "\n",
    "plt.savefig(f\"{directory}multi_panel_plot.pdf\")\n",
    "plt.show()"
   ]
  },
  {
   "cell_type": "markdown",
   "metadata": {},
   "source": [
    "I will go through some representative examples now. Firstly consider the $\\delta = 0$ correlator. It is impossible for multilevel to offer any imporvements to the error of this correlator, as it doesn't connect two different subregions. Therefore, the best we can hope for from multilevel is to match single level. This is what we see below for small correlation length. As the correlation length increases sublattice configurations become more and more boundary dependent, and the $NM$ independent configurations reduce to just $M$ in the case of multilevel, causing it to perform up to $\\frac{1}{\\sqrt{M}}$ worse. "
   ]
  },
  {
   "cell_type": "code",
   "execution_count": 31,
   "metadata": {},
   "outputs": [
    {
     "data": {
      "image/png": "[encoded data removed]",
      "text/plain": [
       "<Figure size 432x288 with 1 Axes>"
      ]
     },
     "metadata": {
      "needs_background": "light"
     },
     "output_type": "display_data"
    }
   ],
   "source": [
    "delta = 0\n",
    "\n",
    "plt.scatter(xis[L], (single_stds[:, delta] / multi_unw[:, delta])[:len(betas)], label='unweighted', color='r')\n",
    "plt.scatter(xis[L], (single_stds[:, delta] / multi_basic[:, delta])[:len(betas)], label='basic weights', color='b')\n",
    "plt.scatter(xis[L], (single_stds[:, delta] / multi_stds[:, delta])[:len(betas)], label='optimal weights', color='g')\n",
    "plt.plot([0, max(xis[L])], [1, 1], color='k', ls='--')\n",
    "plt.plot([0, max(xis[L])], [numpy.sqrt(M), numpy.sqrt(M)], color='k', ls='--')\n",
    "plt.plot([0, max(xis[L])], [1 / numpy.sqrt(M), 1 / numpy.sqrt(M)], color='k', ls='--')\n",
    "\n",
    "plt.legend()\n",
    "plt.yscale('log')\n",
    "plt.xscale('log')\n",
    "plt.title(rf' $\\delta = {delta} $ ')\n",
    "plt.ylabel('Improvement against single level')\n",
    "plt.xlabel('correlation length, xi')\n",
    "plt.show()"
   ]
  },
  {
   "cell_type": "markdown",
   "metadata": {},
   "source": [
    "Next we consider the best case scenario for multilevel, where the seperation between the points of the correlator is half the lattice size, $\\delta = \\left(\\frac{L}{2}\\right)$. This allows all but the boundary contributions to benefit from multievel as they connect the different subregions. At small correlation lengths, each sublattice configuration has little correlation to the boundary and so they are close to being independent. Therefore, a properly weighted multilevel achieves close the the optimum scaling improvement (by a factor of $\\sqrt{M}$). The unweighted multilevel performs poorly across all correlation lengths, due to the fact that it weights the boundary contribution equally to all other contirubtions. This boundary contribution however has a standard deviation like $1/ \\sqrt{N}$, as opposed to the non-boundary contributions, which scale like $1 / NM^2$. It therefore dominates the error. The basic weighting scheme fixes this issue, and performs reasonably at very small correaltion lengths. However, as the correaltion length increaes, the sub-lattice sites either side of the boundary become significantly correlated to the boundary, and so aren't independent from sub-lattice sample to sub-lattice sample. Therefore, the perfomance of this weighting scheme quickly deteriorates as the correlation length increases."
   ]
  },
  {
   "cell_type": "code",
   "execution_count": 32,
   "metadata": {},
   "outputs": [
    {
     "data": {
      "text/plain": [
       "Text(0.5, 0, 'correlation length, xi')"
      ]
     },
     "execution_count": 32,
     "metadata": {},
     "output_type": "execute_result"
    },
    {
     "data": {
      "image/png": "[encoded data removed]",
      "text/plain": [
       "<Figure size 432x288 with 1 Axes>"
      ]
     },
     "metadata": {
      "needs_background": "light"
     },
     "output_type": "display_data"
    }
   ],
   "source": [
    "delta = L // 2\n",
    "\n",
    "plt.scatter(xis[L], (single_stds[:, delta] / multi_unw[:, delta])[:len(betas)], label='unweighted', color='r')\n",
    "plt.scatter(xis[L], (single_stds[:, delta] / multi_basic[:, delta])[:len(betas)], label='basic weights', color='b')\n",
    "plt.scatter(xis[L], (single_stds[:, delta] / multi_stds[:, delta])[:len(betas)], label='optimal weights', color='g')\n",
    "plt.plot([0, max(xis[L])], [1, 1], color='k', ls='--')\n",
    "plt.plot([0, max(xis[L])], [numpy.sqrt(M), numpy.sqrt(M)], color='k', ls='--')\n",
    "plt.plot([0, max(xis[L])], [1 / numpy.sqrt(M), 1 / numpy.sqrt(M)], color='k', ls='--')\n",
    "\n",
    "plt.legend()\n",
    "plt.yscale('log')\n",
    "plt.xscale('log')\n",
    "plt.title(rf' $ \\delta = {delta} $ ')\n",
    "plt.ylabel('Improvement against single level')\n",
    "plt.xlabel('correlation length, xi')"
   ]
  },
  {
   "cell_type": "markdown",
   "metadata": {},
   "source": [
    "Intitively we may think that the absolute value of the correlation length isn't important, only its size relative to $L$. We will now test this intuition by looking at $L = 16$ and $L = 32$ data. To be explicit the hypothesis here is that as we send $L \\xrightarrow[]{} \\alpha L, \\delta \\xrightarrow[]{} \\alpha \\delta, \\xi \\xrightarrow[]{} \\alpha \\xi$, then the relative performance of multilevel stays about the same."
   ]
  },
  {
   "cell_type": "code",
   "execution_count": 33,
   "metadata": {},
   "outputs": [
    {
     "data": {
      "image/png": "[encoded data removed]",
      "text/plain": [
       "<Figure size 432x288 with 1 Axes>"
      ]
     },
     "metadata": {
      "needs_background": "light"
     },
     "output_type": "display_data"
    }
   ],
   "source": [
    "delta_frac = 1 / 2 # delta / L\n",
    "L_s = [L // 2, L]\n",
    "colors = {L // 2: 'g', L: 'r'}\n",
    "font_size = 15\n",
    "\n",
    "for L in L_s:\n",
    "    results = full_results[L]\n",
    "\n",
    "    # Extract Standard deviations from the results\n",
    "    single_stds = numpy.std(results[:, 0], axis=2)\n",
    "    multi_stds = numpy.std(results[:, 1], axis=2)\n",
    "\n",
    "    delta = int(numpy.rint(delta_frac * L))\n",
    "\n",
    "    plt.scatter(xis[L] / L, single_stds[:, delta] / multi_stds[:, delta], label=rf' $ L={L} $ ', color=colors[L])\n",
    "\n",
    "plt.plot([0, max(xis[L] / L)], [1, 1], color='k', ls='--')\n",
    "plt.plot([0, max(xis[L] / L)], [numpy.sqrt(M), numpy.sqrt(M)], color='k', ls='--')\n",
    "plt.plot([0, max(xis[L] / L)], [1 / numpy.sqrt(M), 1 / numpy.sqrt(M)], color='k', ls='--')\n",
    "\n",
    "plt.yscale('log')\n",
    "plt.xscale('log')\n",
    "plt.xlabel(r'$ \\xi / L $', fontsize=font_size)\n",
    "\n",
    "ylabel = plt.ylabel(r'$ \\sigma_{s}/\\sigma_{m} $', fontsize=font_size, position=(0.3, 0.7))\n",
    "ylabel.set_rotation('0')\n",
    "\n",
    "plt.text(0.013, 0.07, r' $ \\sigma_{s}/\\sigma_{m} = \\frac{1}{\\sqrt{M}} $ ', fontsize=font_size)\n",
    "plt.text(0.16, 12, r' $ \\sigma_{s}/\\sigma_{m} = \\sqrt{M} $ ', fontsize=font_size)\n",
    "\n",
    "plt.title(rf'$ \\delta / L = {delta_frac} $', fontsize=font_size)\n",
    "plt.legend(loc=(0.35, 0.1))\n",
    "\n",
    "plt.savefig(f'{base_directory}/graphs/scaling.pdf')\n",
    "plt.show()\n",
    "plt.close()"
   ]
  },
  {
   "cell_type": "markdown",
   "metadata": {},
   "source": [
    "This is great, it feels like we're really beginning to understand multilevel performance here. Prehaps we can predict it without running a single simulation! That is the topic of the next section."
   ]
  },
  {
   "cell_type": "markdown",
   "metadata": {},
   "source": [
    "# 3. Theoretical Model\n",
    "I will now go through a model for multilevel performance, which makes the following assumptions:\n",
    "\n",
    "1. Time-slices are random variables correlated to eachother\n",
    "2. Correlation between time-slices given by twopt function - e.g. $\\langle S(t) S(t + \\delta) \\rangle = Ae^{\\frac{-\\delta}{\\xi}}$.\n",
    "3. Time-slices in different sub-regions only correlated indirectly via the boundary\n",
    "\n",
    "This model is conceptually simple, but there is a fair amount of complexity involved in making sure that fields are correlated to eachother by the right amount. This is because the correlation matrix we looked at previously is the result of upto 6 different slice variables: two for each two-point function, and two from the two boundaries."
   ]
  },
  {
   "cell_type": "markdown",
   "metadata": {},
   "source": [
    "## 3.1 Normality of Slice Coordinates\n",
    "\n",
    "In what is to follow we will treat the slice coordinate variables as normally distributed. This assumption is made due to the central limit theorum as they are an average over $L$ configurations. The larger the lattice size (and also the higher the dimensionality of the lattice) the better this approximation will hold. We can see by the plot we obtain that this is roughly the case in the symmetric phase but falls apart in the broken phase."
   ]
  },
  {
   "cell_type": "code",
   "execution_count": 34,
   "metadata": {},
   "outputs": [
    {
     "data": {
      "image/png": "[encoded data removed]",
      "text/plain": [
       "<Figure size 1332x756 with 9 Axes>"
      ]
     },
     "metadata": {
      "needs_background": "light"
     },
     "output_type": "display_data"
    }
   ],
   "source": [
    "N = 500\n",
    "M = 500\n",
    "step = 20\n",
    "\n",
    "slice_data = numpy.zeros((no_betas, N * M * L))\n",
    "\n",
    "for i, beta in enumerate(betas):\n",
    "    data = single_slice_ising(L, beta, N * M, step)\n",
    "    slice_data[i] = data.spin_slice.reshape(N * M * L)\n",
    "\n",
    "num_columns = 3\n",
    "num_rows = 3\n",
    "fig, axes = plt.subplots(num_rows, num_columns)\n",
    "\n",
    "# Use beta values from the previously calculated results\n",
    "beta_nos = [x for x in range(0, L, 4)] + [-1]\n",
    "\n",
    "for i, beta_no in enumerate(beta_nos):\n",
    "    data = slice_data[beta_no]\n",
    "    a, b = numpy.histogram(data, int(L / 2))\n",
    "    axes[i // num_columns, i % num_columns].bar(b[:-1], a, width=4 / L, align='edge')\n",
    "    axes[i // num_columns, i % num_columns].title.set_text(f'beta = {betas[beta_no]:.2f}')\n",
    "\n",
    "fig.set_size_inches(18.5, 10.5)\n",
    "plt.tight_layout()\n",
    "plt.savefig(\"graphs/slice_coordinate_distros.png\", dpi=500)\n",
    "plt.show()"
   ]
  },
  {
   "cell_type": "markdown",
   "metadata": {},
   "source": [
    "We now assert a functional form for the correlation between two slice coordinates. The following function is appropriate for the Ising model in the symmetric phase, and also takes account of around the world effects with the $L- x$ term."
   ]
  },
  {
   "cell_type": "code",
   "execution_count": 35,
   "metadata": {},
   "outputs": [],
   "source": [
    "def correlation(delta, xi, L):\n",
    "    \"\"\"\n",
    "        This function returns the expected correlation coefficient between slice-coordinate fields\n",
    "        seperated by a distance of delta in the symmetric phase of the Ising model\n",
    "\n",
    "        INPUTS:\n",
    "        -------\n",
    "        delta: int, seperation between slice-coordinate fields\n",
    "\n",
    "        xi: float, the correlation length of the system\n",
    "\n",
    "        L: int, sidelength of the lattice\n",
    "\n",
    "        RETURNS:\n",
    "        --------\n",
    "        float with a value between 0 and 1\n",
    "    \"\"\"\n",
    "    return numpy.exp(-delta / xi) + numpy.exp(-(L - delta) / xi) - numpy.exp(-L / xi)"
   ]
  },
  {
   "cell_type": "markdown",
   "metadata": {},
   "source": [
    "## 3.2. Correlated field class"
   ]
  },
  {
   "cell_type": "code",
   "execution_count": 36,
   "metadata": {},
   "outputs": [],
   "source": [
    "class fun_field(object):\n",
    "    def __init__(self, name, dependents, correlations, x, N, M, region=0):\n",
    "        \"\"\"\n",
    "            INPUTS:\n",
    "            -------\n",
    "            name: string, describes how this object is represented when printed.\n",
    "\n",
    "            dependents: list of other fun_field instances, of which this field is dependent - e.g.\n",
    "                part of the value of this field is determined from the correlation to these fields.\n",
    "\n",
    "            correlations: vector of the same length and order as dependents containing the\n",
    "                correlations between this field and each of the dependents - these values are\n",
    "                between 0 and 1.\n",
    "\n",
    "            N: int, number of boundary configurations\n",
    "\n",
    "            M: int, number of sublattice configurations per boundary config\n",
    "\n",
    "            x: int, position of the field slice variable on the lattice (starting at x = 0 for the\n",
    "                first boundary)\n",
    "\n",
    "            boundary: bool, True if this field insertion is in the boundary\n",
    "\n",
    "            simulate: bool - if true then use numpy.random library to create correlated random\n",
    "                variables, if it's false then use theoretical predictions to calculate variances\n",
    "\n",
    "            region: int - the index of the region this field is contained within - see the\n",
    "                region_maker function\n",
    "        \"\"\"\n",
    "        self.region = region\n",
    "        self.name = name\n",
    "        self.dependents = dependents\n",
    "        self.correlations = {}\n",
    "        self.N = N\n",
    "        self.M = M\n",
    "        self.x = x\n",
    "\n",
    "        # A field is absolutely correlated to itself\n",
    "        self.correlations[self] = 1\n",
    "\n",
    "        # Correlate this field with it's dependents and them with it\n",
    "        for i, dependent in enumerate(dependents):\n",
    "            self.correlations[dependent] = correlations[i]\n",
    "            dependent.correlations[self] = correlations[i]\n",
    "    \n",
    "        # The coefficients of this fields random value from itself + its dependents (hence the + 1)\n",
    "        self.coefficients = numpy.zeros(len(dependents) + 1)\n",
    "\n",
    "        # If there are no dependents then this field is the result of a single random variable\n",
    "        if len(dependents) == 0:\n",
    "            self.coefficients = [1]\n",
    "            self.noise_dict = Counter({self: 1})\n",
    "\n",
    "        else:\n",
    "            # Find the correlation matrix between contributions\n",
    "            coefficient_matrix = numpy.zeros((len(dependents), len(dependents)))\n",
    "\n",
    "            for i in range(len(dependents)):\n",
    "                for k in range(len(dependents)):\n",
    "                    coefficient_matrix[i, k] = dependents[i].correlations[dependents[k]]\n",
    "\n",
    "            # The coefficients solve the equation C x = b, where C is the covariance matrix and b\n",
    "            # is the correlation vector\n",
    "            self.coefficients[:-1] = numpy.linalg.solve(coefficient_matrix, correlations)\n",
    "\n",
    "            # We now use these coefficients to decompose the noise,\n",
    "            # $X = \\sum_i c_i Y_i$, with $Y_i ~ N(0, 1)$\n",
    "            self.noise_dict = Counter({})\n",
    "            for i, dependent in enumerate(dependents):\n",
    "                c = self.coefficients[i]\n",
    "                new_dict = {key: dependent.noise_dict[key] * c for key in dependent.noise_dict}\n",
    "                self.noise_dict += new_dict\n",
    "\n",
    "            # # The sum of the squares of the coefficients of the $N(0, 1)$ contributions should be\n",
    "            # # 1, to give an overall variance of 1\n",
    "            sum_squares = sum([self.noise_dict[entry] ** 2 for entry in self.noise_dict])\n",
    "            self.coefficients[-1] = numpy.sqrt(1 - sum_squares)\n",
    "            self.noise_dict += {self: self.coefficients[-1]}\n",
    "\n",
    "    def __str__(self):\n",
    "        return self.name\n",
    "\n",
    "    def __repr__(self):\n",
    "        return self.name"
   ]
  },
  {
   "cell_type": "markdown",
   "metadata": {},
   "source": [
    "We can now use this class representing a single field insertion to build up correlators of field insertions. To calculate the covariance matrix that we have used prevsiously we need four field insertions - two for each correlator, plus field insertions for the boundary layers. The two_correlators class is designed for this specific task.\n",
    "\n",
    "The covariance between two two-point correlators is given by $Cov(C_2(x_1), C_2(x_2)) = \\langle C(x_1) C(x_2) \\rangle - \\langle C(x_1) \\rangle \\langle C(x_2) \\rangle = \\langle \\phi(x_1) \\phi(x_1 + \\delta) \\phi(x_2) \\phi(x_2 + \\delta) \\rangle - \\left(\\exp(-\\frac{\\delta}{\\xi})\\right)^2$."
   ]
  },
  {
   "cell_type": "code",
   "execution_count": 37,
   "metadata": {},
   "outputs": [],
   "source": [
    "def get_A(c_s, d_s, f_s, L):\n",
    "    f_P, f_R, f_Q, f_S = f_s\n",
    "\n",
    "    total = 0\n",
    "\n",
    "    for x in range(L):\n",
    "        for y in range(L):\n",
    "            total += f_P[x] * f_Q[y] * f_R[x] * f_S[y]\n",
    "            total += f_P[x] * f_Q[y] * f_R[y] * f_S[x]\n",
    "\n",
    "    return total\n",
    "\n",
    "def get_B(c_s, d_s, f_s, L):\n",
    "    c_P, c_R, c_Q, c_S = c_s\n",
    "    d_P, d_R, d_Q, d_S = d_s\n",
    "    f_P, f_R, f_Q, f_S = f_s\n",
    "\n",
    "    total = 0\n",
    "\n",
    "    for x in range(L):\n",
    "        for y in range(L):\n",
    "            total += c_P[x] * c_Q[y] * c_R[x] * c_S[y]\n",
    "            total += c_P[x] * c_Q[y] * c_R[y] * c_S[x]\n",
    "\n",
    "            total += d_P[x] * d_Q[y] * d_R[x] * d_S[y]\n",
    "            total += d_P[x] * d_Q[y] * d_R[y] * d_S[x]\n",
    "\n",
    "            # Contribution from pairs of fields in a region and in the boundary for each correlator\n",
    "            total += (c_P[x] * f_Q[y] + f_P[y] * c_Q[x]) * (c_R[x] * f_S[y] + f_R[y] * c_S[x])\n",
    "            total += (d_P[x] * f_Q[y] + f_P[y] * d_Q[x]) * (d_R[x] * f_S[y] + f_R[y] * d_S[x])\n",
    "\n",
    "    return total\n",
    "\n",
    "def get_C(c_s, d_s, f_s, L):\n",
    "    c_P, c_R, c_Q, c_S = c_s\n",
    "    d_P, d_R, d_Q, d_S = d_s\n",
    "\n",
    "    total = 0\n",
    "\n",
    "    for x in range(L):\n",
    "        for y in range(L):\n",
    "            # Contribution from pairs of fields from different sub-regions\n",
    "            total += (c_P[x] * d_Q[y] + d_P[y] * c_Q[x]) * (c_R[x] * d_S[y] + d_R[y] * c_S[x])\n",
    "\n",
    "    return total"
   ]
  },
  {
   "cell_type": "code",
   "execution_count": 38,
   "metadata": {},
   "outputs": [],
   "source": [
    "class two_correlators(object):\n",
    "    \"\"\"\n",
    "        Extending correlator to take in 4 fields to give 2 correlators\n",
    "    \"\"\"\n",
    "    def __init__(self, x1, x2, delta, xi, L, N, M, multi=True):\n",
    "        \"\"\"\n",
    "            INPUTS:\n",
    "            -------\n",
    "            x1: int, location of first correlator\n",
    "            x2: int, location of second correlator\n",
    "            delta: int, seperation between points in each correlator\n",
    "            xi: float, correlation length\n",
    "            L: int, lattice size\n",
    "            N: int, number of boundary configurations\n",
    "            M: int, number of sublattice configurations\n",
    "            multi: bool, calculate correlations assuming a multilevel simulation. If False then\n",
    "                will assume N * M single level configurations\n",
    "        \"\"\"\n",
    "        self.delta = delta\n",
    "        self.L = L\n",
    "        self.N = N\n",
    "        self.M = M\n",
    "        self.xi = xi\n",
    "        self.multi = multi\n",
    "\n",
    "        # Fields at x1, x2, x1 + delta and x2 + delta\n",
    "        self.x_s = numpy.array([x1, x2, (x1 + delta) % L, (x2 + delta) % L])\n",
    "        self.regions = numpy.where(self.x_s >= L // 2, 2, 1)\n",
    "        self.fields = [None, None, None, None]\n",
    "\n",
    "        if multi:\n",
    "            # Add the boundaries: first boundary is uncorrelated, second is correlated to the first\n",
    "            self.boundary1 = fun_field(\"B1\", [], [], 0, N, M)\n",
    "            self.boundary2 = fun_field(\"B2\", [self.boundary1], [correlation(L // 2, xi, L)],\n",
    "                                       L // 2, N, M)\n",
    "\n",
    "            # Points in each region are only correlated to the boundaries and fields within that\n",
    "            # region. Dependence on the other subregions occurs via. correlation to the boundary.\n",
    "            for region in [1, 2]:\n",
    "                dependents = {0: self.boundary1, L // 2: self.boundary2}\n",
    "\n",
    "                for i in numpy.argwhere(self.regions == region)[:, 0]:\n",
    "                    x = self.x_s[i]\n",
    "\n",
    "                    if x in dependents:\n",
    "                        # This means we already have a field at this site, so just use that field\n",
    "                        self.fields[i] = dependents[x]\n",
    "\n",
    "                    else:\n",
    "                        # Correlate the new field to the other fields we have in the system\n",
    "                        correlations = [correlation(abs(x - j), xi, L) for j in dependents]\n",
    "\n",
    "                        self.fields[i] = fun_field(f\"phi{x}\", list(dependents.values()),\n",
    "                                                   correlations, x,N, M, region=region)\n",
    "\n",
    "                        dependents[x] = self.fields[i]\n",
    "\n",
    "        # If single level then there are no boundaries - correlate all fields together.\n",
    "        else:\n",
    "            dependents = {}\n",
    "    \n",
    "            for i in range(4):\n",
    "                x = self.x_s[i]\n",
    "\n",
    "                if x in dependents:\n",
    "                    # This means we already have a field at this site, so just use that field\n",
    "                    self.fields[i] = dependents[x]\n",
    "\n",
    "                else:\n",
    "                    # Correlate the new field to the other fields we have in the system\n",
    "                    correlations = [correlation(abs(x - j), xi, L) for j in dependents]\n",
    "\n",
    "                    self.fields[i] = fun_field(f\"phi{x}\", list(dependents.values()), correlations,\n",
    "                                               x, N * M, 1)\n",
    "            \n",
    "                    dependents[x] = self.fields[i]\n",
    "\n",
    "    def estimate_covariance(self):\n",
    "        # One entry for each field in the correlator. Each field can decompose into contributions\n",
    "        # from any site on the lattice in general (hence there being self.L such contributions).\n",
    "        c_s = [numpy.zeros(self.L), numpy.zeros(self.L), numpy.zeros(self.L), numpy.zeros(self.L)]\n",
    "        d_s = [numpy.zeros(self.L), numpy.zeros(self.L), numpy.zeros(self.L), numpy.zeros(self.L)]\n",
    "        f_s = [numpy.zeros(self.L), numpy.zeros(self.L), numpy.zeros(self.L), numpy.zeros(self.L)]\n",
    "        \n",
    "        if not self.multi:\n",
    "            f_s = [numpy.zeros(self.L), numpy.zeros(self.L), numpy.zeros(self.L), numpy.zeros(self.L)]\n",
    "\n",
    "            for i in range(4):\n",
    "                for field, value in self.fields[i].noise_dict.items():\n",
    "                    f_s[i][field.x] = value\n",
    "\n",
    "            A = get_A(c_s, d_s, f_s, self.L)\n",
    "\n",
    "            return A\n",
    "\n",
    "        else:\n",
    "            for i in range(4):\n",
    "                for field, value in self.fields[i].noise_dict.items():\n",
    "                    if field.region == 1:\n",
    "                        c_s[i][field.x] = value\n",
    "\n",
    "                    elif field.region == 2:\n",
    "                        d_s[i][field.x] = value\n",
    "\n",
    "                    else:\n",
    "                        f_s[i][field.x] = value\n",
    "\n",
    "            A = get_A(c_s, d_s, f_s, self.L)\n",
    "            B = get_B(c_s, d_s, f_s, self.L)\n",
    "            C = get_C(c_s, d_s, f_s, self.L)\n",
    "\n",
    "            return A + B / self.M + C / self.M ** 2"
   ]
  },
  {
   "cell_type": "markdown",
   "metadata": {},
   "source": [
    "Since we can now calculate the individual components of correlation matrices, it is trivial to calculate the whole matrix by itereting over the components. We can do this using the theoretical model, or by sampling the normal distributions with the numpy.random module"
   ]
  },
  {
   "cell_type": "code",
   "execution_count": 39,
   "metadata": {},
   "outputs": [],
   "source": [
    "def get_cov_matrix(xi, L, delta, N, M, multi=True):\n",
    "    # Avoid a singular matrix if the correlator is exactly half the lattice size\n",
    "    matrix_size = L // 2 if delta == L // 2 else L\n",
    "    \n",
    "    cov_matrix = numpy.zeros((matrix_size, matrix_size))\n",
    "\n",
    "    for x1 in range(matrix_size):\n",
    "        for x2 in range(matrix_size):\n",
    "            A = two_correlators(x1, x2, delta, xi, L, N, M, multi=multi)\n",
    "\n",
    "            cov_matrix[x1, x2] = A.estimate_covariance()\n",
    "\n",
    "    return cov_matrix"
   ]
  },
  {
   "cell_type": "markdown",
   "metadata": {},
   "source": [
    "We now have everything we need to calculate the best performance increase we can hope for from multilevel! This of course depends on the lattice size, the two-point seperation and the correlation length."
   ]
  },
  {
   "cell_type": "code",
   "execution_count": 40,
   "metadata": {},
   "outputs": [],
   "source": [
    "def gain(xi, L, delta, N, M):\n",
    "    cov_single = get_cov_matrix(xi, L, delta, N, M, multi=False) / (N * M)\n",
    "    cov_multi = get_cov_matrix(xi, L, delta, N, M) / N\n",
    "\n",
    "    weights_single = numpy.ones_like(cov_single[0]) / cov_single[0].shape\n",
    "    weights_multi = get_weights(cov_multi)\n",
    "\n",
    "    var_single = numpy.dot(weights_single, numpy.dot(cov_single, weights_single))\n",
    "    var_multi = numpy.dot(weights_multi, numpy.dot(cov_multi, weights_multi))\n",
    "\n",
    "    return numpy.sqrt(var_single / var_multi)"
   ]
  },
  {
   "cell_type": "markdown",
   "metadata": {},
   "source": [
    "# 4. Testing\n",
    "\n",
    "To test whether our model works, we need to be able to calculate the correlation length in a system. To do this we will use a cosh fit."
   ]
  },
  {
   "cell_type": "code",
   "execution_count": 41,
   "metadata": {},
   "outputs": [
    {
     "name": "stdout",
     "output_type": "stream",
     "text": [
      "0.1\n",
      "0.11098989656483134\n",
      "0.12197979312966269\n",
      "0.13296968969449402\n",
      "0.14395958625932537\n",
      "0.15494948282415671\n",
      "0.16593937938898803\n",
      "0.17692927595381938\n",
      "0.1879191725186507\n",
      "0.19890906908348205\n",
      "0.2098989656483134\n",
      "0.22088886221314474\n",
      "0.23187875877797606\n",
      "0.2428686553428074\n",
      "0.25385855190763873\n",
      "0.2648484484724701\n",
      "0.2758383450373014\n",
      "0.28682824160213277\n",
      "0.2978181381669641\n",
      "0.3088080347317954\n",
      "0.3197979312966268\n",
      "0.3307878278614581\n",
      "0.34177772442628945\n",
      "0.3527676209911208\n",
      "0.3637575175559521\n",
      "0.3747474141207835\n",
      "0.3857373106856148\n",
      "0.3967272072504462\n",
      "0.4077171038152775\n",
      "0.4187070003801088\n",
      "0.4296968969449402\n",
      "0.44068679350977147\n"
     ]
    }
   ],
   "source": [
    "delta = L // 2\n",
    "\n",
    "# Use the results we calculated in the previous section\n",
    "results = full_results[L]\n",
    "\n",
    "# Extract Standard deviations from the results\n",
    "single_stds = numpy.std(results[:, 0, delta], axis=1)\n",
    "multi_stds = numpy.std(results[:, 1, delta], axis=1)\n",
    "gains_observed = single_stds / multi_stds\n",
    "\n",
    "gains = numpy.zeros_like(single_stds)\n",
    "\n",
    "for i, beta in enumerate(betas):\n",
    "    print(f\"{beta}\")\n",
    "\n",
    "    try:\n",
    "        gains[i] = gain(xis[L][i], L, delta, N, M)\n",
    "\n",
    "    except FloatingPointError:\n",
    "        gains[i] = numpy.nan"
   ]
  },
  {
   "cell_type": "code",
   "execution_count": 42,
   "metadata": {},
   "outputs": [
    {
     "data": {
      "image/png": "[encoded data removed]",
      "text/plain": [
       "<Figure size 432x288 with 1 Axes>"
      ]
     },
     "metadata": {
      "needs_background": "light"
     },
     "output_type": "display_data"
    }
   ],
   "source": [
    "fontsize = 15\n",
    "\n",
    "plt.scatter(xis[L], gains, label='Theoretical Model', color='b')\n",
    "plt.scatter(xis[L], (single_stds / multi_stds)[:len(betas)], label='Numerical Results', color='g')\n",
    "plt.plot([0, max(xis[L])], [1, 1], color='k', ls='--')\n",
    "plt.plot([0, max(xis[L])], [numpy.sqrt(M), numpy.sqrt(M)], color='k', ls='--')\n",
    "plt.plot([0, max(xis[L])], [1 / numpy.sqrt(M), 1 / numpy.sqrt(M)], color='k', ls='--')\n",
    "\n",
    "plt.yscale('log')\n",
    "plt.xscale('log')\n",
    "plt.title(rf' $ \\delta = {delta}, L = {L}, N = {N}, M = {M} $ ', fontsize=fontsize)\n",
    "plt.ylabel(r'$ \\sigma_{s}/\\sigma_{m} $', rotation=0, fontsize=fontsize, position=(0.3, 0.7))\n",
    "plt.xlabel(r' $ \\xi $', fontsize=fontsize)\n",
    "plt.text(0.5, 0.07, r' $ \\sigma_{s}/\\sigma_{m} = \\frac{1}{\\sqrt{M}} $ ', fontsize=fontsize)\n",
    "plt.text(7, 13, r' $ \\sigma_{s}/\\sigma_{m} = \\sqrt{M} $ ', fontsize=fontsize)\n",
    "plt.legend(loc=(0.08, 0.3))\n",
    "plt.savefig(f'{base_directory}/graphs/theoretical_vs_observed.pdf')\n",
    "plt.show()"
   ]
  }
 ],
 "metadata": {
  "interpreter": {
   "hash": "aee8b7b246df8f9039afb4144a1f6fd8d2ca17a180786b69acc140d282b71a49"
  },
  "kernelspec": {
   "display_name": "Python 3",
   "language": "python",
   "name": "python3"
  },
  "language_info": {
   "codemirror_mode": {
    "name": "ipython",
    "version": 3
   },
   "file_extension": ".py",
   "mimetype": "text/x-python",
   "name": "python",
   "nbconvert_exporter": "python",
   "pygments_lexer": "ipython3",
   "version": "3.9.2"
  }
 },
 "nbformat": 4,
 "nbformat_minor": 4
}
